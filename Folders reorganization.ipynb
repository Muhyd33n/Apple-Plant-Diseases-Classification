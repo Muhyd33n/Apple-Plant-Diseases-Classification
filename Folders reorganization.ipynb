{
 "cells": [
  {
   "cell_type": "code",
   "execution_count": 4,
   "id": "f735aa48",
   "metadata": {},
   "outputs": [],
   "source": [
    "import os\n",
    "import shutil"
   ]
  },
  {
   "cell_type": "code",
   "execution_count": 5,
   "id": "259d25b8",
   "metadata": {},
   "outputs": [],
   "source": [
    "def gather_class_images(base_path, output_base):\n",
    "    \"\"\"\n",
    "    This function gathers all .png images for each class across Train, Validation, and Test folders,\n",
    "    and saves them into a single folder per class under the specified output base directory.\n",
    "    \"\"\"\n",
    "    classes = {}\n",
    "    \n",
    "    # First, determine all unique classes across the datasets\n",
    "    for dataset in ['Train', 'Validation', 'Test']:\n",
    "        dataset_path = os.path.join(base_path, dataset)\n",
    "        for class_name in os.listdir(dataset_path):\n",
    "            class_path = os.path.join(dataset_path, class_name)\n",
    "            if os.path.isdir(class_path) and class_name not in classes:\n",
    "                classes[class_name] = []\n",
    "\n",
    "    # Now, gather all images for each class\n",
    "    for dataset in ['Train', 'Validation', 'Test']:\n",
    "        dataset_path = os.path.join(base_path, dataset)\n",
    "        for class_name, images in classes.items():\n",
    "            class_path = os.path.join(dataset_path, class_name)\n",
    "            if os.path.isdir(class_path):\n",
    "                for subdir in os.listdir(class_path):\n",
    "                    subdir_path = os.path.join(class_path, subdir)\n",
    "                    for file in os.listdir(subdir_path):\n",
    "                        if file.endswith('.jpg'):\n",
    "                            image_path = os.path.join(subdir_path, file)\n",
    "                            images.append(image_path)\n",
    "\n",
    "    # Create output directories for each class and copy images\n",
    "    for class_name, images in classes.items():\n",
    "        output_dir = os.path.join(output_base, class_name)\n",
    "        os.makedirs(output_dir, exist_ok=True)\n",
    "        for image_path in images:\n",
    "            shutil.copy(image_path, output_dir)\n",
    "\n",
    "    return classes\n",
    "\n"
   ]
  },
  {
   "cell_type": "code",
   "execution_count": 11,
   "id": "0e86af86",
   "metadata": {},
   "outputs": [],
   "source": [
    "def gather_class_images(base_path, output_base):\n",
    "    \"\"\"\n",
    "    This function gathers all .png images for each class across Train, Validation, and Test folders,\n",
    "    and saves them into a single folder per class under the specified output base directory.\n",
    "    \"\"\"\n",
    "    classes = {}\n",
    "    \n",
    "    # Determine all unique classes across the datasets\n",
    "    for dataset in ['Train', 'Validation', 'Test']:\n",
    "        dataset_path = os.path.join(base_path, dataset)\n",
    "        for class_name in os.listdir(dataset_path):\n",
    "            class_path = os.path.join(dataset_path, class_name)\n",
    "            if os.path.isdir(class_path) and class_name not in classes:\n",
    "                classes[class_name] = []\n",
    "\n",
    "    # Gather all images for each class\n",
    "    for dataset in ['Train', 'Validation', 'Test']:\n",
    "        dataset_path = os.path.join(base_path, dataset)\n",
    "        for class_name, images in classes.items():\n",
    "            class_path = os.path.join(dataset_path, class_name)\n",
    "            if os.path.isdir(class_path):\n",
    "                for subdir in os.listdir(class_path):\n",
    "                    subdir_path = os.path.join(class_path, subdir)\n",
    "                    if os.path.isdir(subdir_path):  # Ensure this is a directory\n",
    "                        for file in os.listdir(subdir_path):\n",
    "                            if file.endswith('.jpg'):\n",
    "                                image_path = os.path.join(subdir_path, file)\n",
    "                                images.append(image_path)\n",
    "\n",
    "    # Create output directories for each class and copy images\n",
    "    for class_name, images in classes.items():\n",
    "        output_dir = os.path.join(output_base, class_name)\n",
    "        os.makedirs(output_dir, exist_ok=True)\n",
    "        for image_path in images:\n",
    "            shutil.copy(image_path, output_dir)\n",
    "\n",
    "    return classes\n"
   ]
  },
  {
   "cell_type": "code",
   "execution_count": 12,
   "id": "b1f4108f",
   "metadata": {},
   "outputs": [],
   "source": [
    "# Define the base directory where the folders Train, Validation, and Test are located\n",
    "base_directory = \"C:/Users/97450/OneDrive/Desktop/NZdataset\"\n",
    "output_directory =  \"C:/Users/97450/OneDrive/Desktop/NewNZdataset\"\n",
    "\n"
   ]
  },
  {
   "cell_type": "code",
   "execution_count": 13,
   "id": "874eee55",
   "metadata": {},
   "outputs": [
    {
     "name": "stdout",
     "output_type": "stream",
     "text": [
      "Images have been gathered and copied.\n"
     ]
    }
   ],
   "source": [
    "# Execute the function\n",
    "gathered_images = gather_class_images(base_directory, output_directory)\n",
    "\n",
    "print(\"Images have been gathered and copied.\")\n"
   ]
  },
  {
   "cell_type": "code",
   "execution_count": null,
   "id": "044f51e7",
   "metadata": {},
   "outputs": [],
   "source": []
  }
 ],
 "metadata": {
  "kernelspec": {
   "display_name": "Python 3 (ipykernel)",
   "language": "python",
   "name": "python3"
  },
  "language_info": {
   "codemirror_mode": {
    "name": "ipython",
    "version": 3
   },
   "file_extension": ".py",
   "mimetype": "text/x-python",
   "name": "python",
   "nbconvert_exporter": "python",
   "pygments_lexer": "ipython3",
   "version": "3.11.5"
  }
 },
 "nbformat": 4,
 "nbformat_minor": 5
}
